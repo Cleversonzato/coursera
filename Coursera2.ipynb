{
 "cells": [
  {
   "cell_type": "markdown",
   "metadata": {},
   "source": [
    "Let's go the starting point..."
   ]
  },
  {
   "cell_type": "code",
   "execution_count": null,
   "metadata": {},
   "outputs": [],
   "source": [
    "import pandas as pd\n",
    "import numpy as np\n",
    "from bs4 import BeautifulSoup\n",
    "import urllib.request\n",
    "\n",
    "contents = urllib.request.urlopen(\"https://en.wikipedia.org/wiki/List_of_postal_codes_of_Canada:_M\").read()\n",
    "soup = BeautifulSoup(contents, \"lxml\")"
   ]
  },
  {
   "cell_type": "code",
   "execution_count": null,
   "metadata": {},
   "outputs": [],
   "source": [
    "table = soup.find('table')\n",
    "tb = table.find('tbody')\n",
    "linhas = tb.find_all('tr')\n",
    "lista =[]\n",
    "for linha in linhas:  \n",
    "    elementos = linha.find_all('td')\n",
    "    listinha =[]\n",
    "    for elemento in elementos:\n",
    "        listinha.append(elemento.string)\n",
    "    lista.append(listinha)\n",
    "\n",
    "df = pd.DataFrame(lista, columns=['Postcode','Borough','Neighbourhood'])"
   ]
  },
  {
   "cell_type": "markdown",
   "metadata": {},
   "source": [
    "df =df.dropna()\n",
    "\n",
    "df['Neighbourhood']= df['Neighbourhood'].str.rstrip(']\\n')\n",
    "df['Borough']=df['Borough'].str.rstrip()\n",
    "df = df[(df != \"Not assigned\").all(axis =1)]\n",
    "df = df.groupby(['Postcode', 'Borough'])['Neighbourhood'].apply(', '.join)\n",
    "df = pd.DataFrame({\"Postcode\":df.index.get_level_values(\"Postcode\"), \"Borough\":df.index.get_level_values(\"Borough\"), \"Neighbourhood\":df.values})\n",
    "df.head(10)"
   ]
  },
  {
   "cell_type": "markdown",
   "metadata": {},
   "source": [
    "All right, now we have the data frame again, so let's set the coordinates.\n",
    "But first, we need the package \n"
   ]
  },
  {
   "cell_type": "code",
   "execution_count": null,
   "metadata": {},
   "outputs": [],
   "source": [
    "!pip install geocoder"
   ]
  },
  {
   "cell_type": "code",
   "execution_count": null,
   "metadata": {},
   "outputs": [],
   "source": [
    "import geocoder"
   ]
  },
  {
   "cell_type": "markdown",
   "metadata": {},
   "source": [
    "getting every lat/long:"
   ]
  },
  {
   "cell_type": "code",
   "execution_count": null,
   "metadata": {},
   "outputs": [],
   "source": [
    "latitude=[]\n",
    "longitude=[]\n",
    "for postal_code in df['Neighbourhood']:\n",
    "    lat_lng_coords = None\n",
    "    while(lat_lng_coords is None):\n",
    "        g = geocoder.google('{}, Toronto, Ontario'.format(postal_code))\n",
    "        lat_lng_coords = g.latlng\n",
    "\n",
    "    latitude.append(lat_lng_coords[0])\n",
    "    longitude.append(lat_lng_coords[1])"
   ]
  },
  {
   "cell_type": "code",
   "execution_count": 92,
   "metadata": {},
   "outputs": [
    {
     "data": {
      "text/html": [
       "<div>\n",
       "<style scoped>\n",
       "    .dataframe tbody tr th:only-of-type {\n",
       "        vertical-align: middle;\n",
       "    }\n",
       "\n",
       "    .dataframe tbody tr th {\n",
       "        vertical-align: top;\n",
       "    }\n",
       "\n",
       "    .dataframe thead th {\n",
       "        text-align: right;\n",
       "    }\n",
       "</style>\n",
       "<table border=\"1\" class=\"dataframe\">\n",
       "  <thead>\n",
       "    <tr style=\"text-align: right;\">\n",
       "      <th></th>\n",
       "      <th>Postcode</th>\n",
       "      <th>Borough</th>\n",
       "      <th>Neighbourhood</th>\n",
       "      <th>latitude</th>\n",
       "      <th>Latitude</th>\n",
       "      <th>Longitude</th>\n",
       "    </tr>\n",
       "  </thead>\n",
       "  <tbody>\n",
       "    <tr>\n",
       "      <th>0</th>\n",
       "      <td>M1E</td>\n",
       "      <td>Scarborough</td>\n",
       "      <td>Guildwood</td>\n",
       "      <td>None</td>\n",
       "      <td>43.752743</td>\n",
       "      <td>-79.192777</td>\n",
       "    </tr>\n",
       "    <tr>\n",
       "      <th>1</th>\n",
       "      <td>M1K</td>\n",
       "      <td>Scarborough</td>\n",
       "      <td>East Birchmount Park</td>\n",
       "      <td>None</td>\n",
       "      <td>43.711087</td>\n",
       "      <td>-79.269800</td>\n",
       "    </tr>\n",
       "    <tr>\n",
       "      <th>2</th>\n",
       "      <td>M1M</td>\n",
       "      <td>Scarborough</td>\n",
       "      <td>Scarborough Village West</td>\n",
       "      <td>None</td>\n",
       "      <td>43.776426</td>\n",
       "      <td>-79.231752</td>\n",
       "    </tr>\n",
       "    <tr>\n",
       "      <th>3</th>\n",
       "      <td>M1N</td>\n",
       "      <td>Scarborough</td>\n",
       "      <td>Cliffside West</td>\n",
       "      <td>None</td>\n",
       "      <td>43.702314</td>\n",
       "      <td>-79.250164</td>\n",
       "    </tr>\n",
       "    <tr>\n",
       "      <th>4</th>\n",
       "      <td>M1T</td>\n",
       "      <td>Scarborough</td>\n",
       "      <td>Clarks Corners, Sullivan</td>\n",
       "      <td>None</td>\n",
       "      <td>43.647361</td>\n",
       "      <td>-79.381123</td>\n",
       "    </tr>\n",
       "    <tr>\n",
       "      <th>5</th>\n",
       "      <td>M1V</td>\n",
       "      <td>Scarborough</td>\n",
       "      <td>L'Amoreaux East, Steeles East</td>\n",
       "      <td>None</td>\n",
       "      <td>43.819756</td>\n",
       "      <td>-79.324284</td>\n",
       "    </tr>\n",
       "    <tr>\n",
       "      <th>6</th>\n",
       "      <td>M1W</td>\n",
       "      <td>Scarborough</td>\n",
       "      <td>L'Amoreaux West</td>\n",
       "      <td>None</td>\n",
       "      <td>43.799586</td>\n",
       "      <td>-79.310051</td>\n",
       "    </tr>\n",
       "    <tr>\n",
       "      <th>7</th>\n",
       "      <td>M2J</td>\n",
       "      <td>North York</td>\n",
       "      <td>Fairview, Oriole</td>\n",
       "      <td>None</td>\n",
       "      <td>43.765502</td>\n",
       "      <td>-79.364245</td>\n",
       "    </tr>\n",
       "    <tr>\n",
       "      <th>8</th>\n",
       "      <td>M2N</td>\n",
       "      <td>North York</td>\n",
       "      <td>Willowdale South</td>\n",
       "      <td>None</td>\n",
       "      <td>43.780584</td>\n",
       "      <td>-79.406659</td>\n",
       "    </tr>\n",
       "    <tr>\n",
       "      <th>9</th>\n",
       "      <td>M2P</td>\n",
       "      <td>North York</td>\n",
       "      <td>York Mills West</td>\n",
       "      <td>None</td>\n",
       "      <td>43.752948</td>\n",
       "      <td>-79.362137</td>\n",
       "    </tr>\n",
       "  </tbody>\n",
       "</table>\n",
       "</div>"
      ],
      "text/plain": [
       "  Postcode      Borough                  Neighbourhood latitude   Latitude  \\\n",
       "0      M1E  Scarborough                      Guildwood     None  43.752743   \n",
       "1      M1K  Scarborough           East Birchmount Park     None  43.711087   \n",
       "2      M1M  Scarborough       Scarborough Village West     None  43.776426   \n",
       "3      M1N  Scarborough                 Cliffside West     None  43.702314   \n",
       "4      M1T  Scarborough       Clarks Corners, Sullivan     None  43.647361   \n",
       "5      M1V  Scarborough  L'Amoreaux East, Steeles East     None  43.819756   \n",
       "6      M1W  Scarborough                L'Amoreaux West     None  43.799586   \n",
       "7      M2J   North York               Fairview, Oriole     None  43.765502   \n",
       "8      M2N   North York               Willowdale South     None  43.780584   \n",
       "9      M2P   North York                York Mills West     None  43.752948   \n",
       "\n",
       "   Longitude  \n",
       "0 -79.192777  \n",
       "1 -79.269800  \n",
       "2 -79.231752  \n",
       "3 -79.250164  \n",
       "4 -79.381123  \n",
       "5 -79.324284  \n",
       "6 -79.310051  \n",
       "7 -79.364245  \n",
       "8 -79.406659  \n",
       "9 -79.362137  "
      ]
     },
     "execution_count": 92,
     "metadata": {},
     "output_type": "execute_result"
    }
   ],
   "source": [
    "df['Latitude'] = latitude\n",
    "df['Longitude'] = longitude\n",
    "df.head(10)"
   ]
  },
  {
   "cell_type": "markdown",
   "metadata": {},
   "source": [
    "Seems right!"
   ]
  }
 ],
 "metadata": {
  "kernelspec": {
   "display_name": "Python 3",
   "language": "python",
   "name": "python3"
  },
  "language_info": {
   "codemirror_mode": {
    "name": "ipython",
    "version": 3
   },
   "file_extension": ".py",
   "mimetype": "text/x-python",
   "name": "python",
   "nbconvert_exporter": "python",
   "pygments_lexer": "ipython3",
   "version": "3.6.5"
  }
 },
 "nbformat": 4,
 "nbformat_minor": 2
}
