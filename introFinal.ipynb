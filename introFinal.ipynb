{
 "cells": [
  {
   "cell_type": "markdown",
   "metadata": {},
   "source": [
    "<h3>Welcome to the</h3>\n",
    "<h1><b>BATTLE OF THE </b>[Café Colonial]<b> NEIGHBORHOODS !!!</b></h1>\n",
    "<hr>\n",
    "\n",
    "In this fierce battle, we will have a twist from the original neighborhood battle. \n",
    "This time, it will be a battle between coffe shops that offers a specific service,\n",
    "th unique,\n",
    "the marvelous\n",
    "th incredible... <h4><b>Café Colonial</b></h4>"
   ]
  },
  {
   "cell_type": "markdown",
   "metadata": {},
   "source": [
    "\n",
    "In case you have never herad about it, the best way to understand what it is this godly creation known as <b>Café Colonial</b> (which is a kind of \"all you can eat\" bakerty store) is with your eyes, so check it out:\n",
    "\n",
    "<img src= \"https://img.stpu.com.br/?img=https://s3.amazonaws.com/pu-mgr/default/a0RG000000jZ2YoMAK/5aabbd9de4b04d230be146c7.jpg&w=620&h=400\">\n",
    "<img src= \"https://encrypted-tbn0.gstatic.com/images?q=tbn:ANd9GcRRRGvL0oIDZsxivTnrFbrws-Rz2I4UyKHUTX8DNcwDchiKd6LcFw\">\n",
    "<img src= \"https://i.pinimg.com/originals/84/3e/55/843e55011a1110914a00a7cbb5d9ab62.jpg\">"
   ]
  },
  {
   "cell_type": "markdown",
   "metadata": {},
   "source": [
    "As you can it, <b>café colonial</b> is something that does not have a fixed form. \n",
    "It accepts all kinds of dishes, colors and cultures.\n",
    "\n",
    "<hr>\n"
   ]
  },
  {
   "cell_type": "markdown",
   "metadata": {},
   "source": [
    "<h2>Rules</h2>\n",
    "As something very diverse and \"food based\", to decide on the best <b>café colonial</b> it is necessary to <b>go and taste then all!</b>\n",
    "\n",
    "Unfortunately, time, money and possible obesity relate issues makes very prohibitive to do so, so it is necessary to limit this competition to some venues based on some rules, defined by the main judge (me):\n",
    "<ol>\n",
    "<li>If it opens on Sundays and close at a late time (18-19h)</li> \n",
    "    The best day to go to an \"all you can eat\" is Sunday, and once you get in, you have to stay there until a very late time, eating.\n",
    "<li>The quality and price ratio</li>    \n",
    "    The overall cost-benefit\n",
    "<li>Amout of a plant/garden store within 500m</li>\n",
    "    As someone who really enjoys plant/garden things, going to a plant/garden store, enjoy myself while at it and then go to a <b>café colonial</b> is the perfect plan to a perfect day.\n",
    "    <li>Be on Curitiba's region</li>\n",
    "    Since the judge must be able to easily reach the venues.\n",
    "</ol>\n",
    "\n",
    "From all these initial information, the <b>cafés coloniais</b> will be grouped in some clusters and only the ones in the best cluster <b>will be the finalists on this competition!</b>"
   ]
  }
 ],
 "metadata": {
  "kernelspec": {
   "display_name": "Python 3",
   "language": "python",
   "name": "python3"
  },
  "language_info": {
   "codemirror_mode": {
    "name": "ipython",
    "version": 3
   },
   "file_extension": ".py",
   "mimetype": "text/x-python",
   "name": "python",
   "nbconvert_exporter": "python",
   "pygments_lexer": "ipython3",
   "version": "3.6.5"
  }
 },
 "nbformat": 4,
 "nbformat_minor": 2
}
